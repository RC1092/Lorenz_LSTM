{
  "cells": [
    {
      "cell_type": "markdown",
      "metadata": {
        "id": "QLoT3h-Vb2W3"
      },
      "source": [
        "# Lorenz System\n",
        "The Lorenz system is a set of three coupled, nonlinear ordinary differential equations that were first studied by the meteorologist Edward Lorenz in the early 1960s. These equations are notable for having solutions that exhibit a phenomenon known as chaos, particularly sensitive dependence on initial conditions. The system was originally derived from a simplified model of convection rolls in the atmosphere.\n",
        "\n",
        "The Lorenz system is defined by the following set of differential equations:\n",
        "\n",
        "\\begin{align*}\n",
        "\\frac{dx}{dt} &= \\sigma (y - x), \\\\\n",
        "\\frac{dy}{dt} &= x (\\rho - z) - y, \\\\\n",
        "\\frac{dz}{dt} &= x y - \\beta z.\n",
        "\\end{align*}\n",
        "\n",
        "Where:\n",
        "- \\( x, y, z \\): State variables of the system.\n",
        "- \\( σ \\): Prandtl number (rate of temperature dissipation).\n",
        "- \\( ρ\\): Rayleigh number (proportional to the temperature difference between the top and bottom of the box).\n",
        "- \\( β \\): Aspect ratio of the box.\n",
        "\n",
        "The Lorenz attractor is shaped like a butterfly or figure eight and has been widely studied not just in meteorology but also in various fields concerned with dynamical systems, including mathematics, physics, engineering, economics, and biology.\n",
        "\n",
        "For certain values of these parameters  σ = 10, β = $\\frac{8}{3}$, and ρ = 28, the Lorenz system exhibits chaotic behavior, meaning that small differences in initial conditions grow exponentially over time, making long-term prediction impossible. This behavior is often illustrated by the Lorenz attractor, a fractal structure that represents the state of the system over time in a three-dimensional phase space.\n",
        "\n",
        "\n"
      ]
    },
    {
      "cell_type": "code",
      "execution_count": null,
      "metadata": {
        "cellView": "form",
        "colab": {
          "base_uri": "https://localhost:8080/",
          "height": 683
        },
        "id": "eEh2SKm2b5vp",
        "outputId": "859e3d36-599e-4d42-8f52-3db83760924e"
      },
      "outputs": [],
      "source": [
        "# @title\n",
        "import numpy as np\n",
        "from scipy.integrate import solve_ivp\n",
        "import matplotlib.pyplot as plt\n",
        "from mpl_toolkits.mplot3d import Axes3D\n",
        "from sklearn.preprocessing import MinMaxScaler\n",
        "from tensorflow.keras.models import Sequential\n",
        "from tensorflow.keras.layers import LSTM, Dense\n",
        "# Lorenz system parameters and initial conditions\n",
        "sigma, beta, rho = 10.0, 8.0 / 3.0, 28.0\n",
        "initial_state = [1.0, 1.0, 1.0]\n",
        "t_span = [0.0, 100.0]  # time interval for the solution\n",
        "t_eval = np.linspace(t_span[0], t_span[1], 10000)  # time points where the solution is computed\n",
        "\n",
        "# Lorenz system differential equations\n",
        "def lorenz_system(t, state, sigma, beta, rho):\n",
        "    x, y, z = state\n",
        "    dxdt = sigma * (y - x)\n",
        "    dydt = x * (rho - z) - y\n",
        "    dzdt = x * y - beta * z\n",
        "    return [dxdt, dydt, dzdt]\n",
        "\n",
        "# Solve the Lorenz system\n",
        "solution = solve_ivp(lorenz_system, t_span, initial_state, t_eval=t_eval, args=(sigma, beta, rho))\n",
        "\n",
        "# Plot the solution\n",
        "fig = plt.figure(figsize=(10, 8))\n",
        "ax = fig.add_subplot(111, projection='3d')\n",
        "ax.plot(solution.y[0], solution.y[1], solution.y[2], lw=0.5, color='blue')\n",
        "\n",
        "# Set the angle of the view and the title of the plot\n",
        "ax.view_init(30, 200)\n",
        "ax.set_title('Lorenz Attractor', fontsize=20)\n",
        "\n",
        "# Label the axes\n",
        "ax.set_xlabel(\"X Axis\")\n",
        "ax.set_ylabel(\"Y Axis\")\n",
        "ax.set_zlabel(\"Z Axis\")\n",
        "\n",
        "# Show the plot\n",
        "plt.show()\n"
      ]
    },
    {
      "cell_type": "markdown",
      "metadata": {
        "id": "_LskEDzbdnh5"
      },
      "source": [
        "### What makes Lorenz system so difficult to predict?\n",
        "\n",
        "The unpredictability of the Lorenz model stems from its sensitive dependence on initial conditions, a hallmark of chaotic systems. In the Lorenz model, even minuscule differences in the starting state of the system can lead to vastly different outcomes. This phenomenon is often described as the \"butterfly effect,\" a term coined by Lorenz himself, which suggests that the flap of a butterfly’s wings might ultimately cause a tornado weeks later due to the compounding effects of small, seemingly insignificant actions over time.\n",
        "\n",
        "The equations of the Lorenz model are deterministic, meaning that no random elements are involved in the progression of the system's state. If one knew the precise initial conditions and could compute the equations with infinite precision, the future state of the system would be predictable. However, in practice, it is impossible to measure the initial conditions with perfect accuracy, and computational systems have a finite precision. These tiny discrepancies between the assumed and the actual initial conditions can, over time, lead to completely divergent behaviors, rendering long-term prediction impractical.\n",
        "\n",
        "Furthermore, the Lorenz attractor, the set of values that the system evolves towards, has a fractal structure with infinite complexity on all scales. This means that the system's trajectory never settles into a permanent repeating pattern and is non-periodic, which complicates prediction even further.\n",
        "\n",
        "The Lorenz model is an archetype of mathematical chaos and is a prime example for studying and understanding the behavior of complex dynamical systems that are sensitive to initial conditions.\n",
        "\n",
        "for example we simulated lorenz system with two sets of initial conditions.\n",
        "\n",
        "\\begin{align*}\n",
        "\\ Initial ‎ condition‎ A: (x, y, z) = (1.0, 1.0, 1.0) \\\\\n",
        "\\ Initial ‎ condition‎ B: (x, y, z) = (1.0, 1.0, 1.0001) \\\n",
        "\\end{align*}"
      ]
    },
    {
      "cell_type": "code",
      "execution_count": null,
      "metadata": {
        "colab": {
          "base_uri": "https://localhost:8080/",
          "height": 683
        },
        "id": "mmQRkv_kit1V",
        "outputId": "bb8907df-9cd8-47d7-c995-a8f0b51a9061"
      },
      "outputs": [],
      "source": [
        "# @title\n",
        "import numpy as np\n",
        "import math\n",
        "from scipy.integrate import solve_ivp\n",
        "import matplotlib.pyplot as plt\n",
        "from mpl_toolkits.mplot3d import Axes3D\n",
        "from sklearn.preprocessing import MinMaxScaler\n",
        "from tensorflow.keras.models import Sequential\n",
        "from tensorflow.keras.layers import LSTM, Dense\n",
        "from sklearn.model_selection import train_test_split\n",
        "\n",
        "\n",
        "sigma, beta, rho = 10.0, 8.0 / 3.0, 28.0\n",
        "t_span = [0.0, 40.0]\n",
        "t_eval = np.linspace(t_span[0], t_span[1], 10000)\n",
        "\n",
        "\n",
        "def lorenz_system(t, state, sigma, beta, rho):\n",
        "    x, y, z = state\n",
        "    dxdt = sigma * (y - x)\n",
        "    dydt = x * (rho - z) - y\n",
        "    dzdt = x * y - beta * z\n",
        "    return [dxdt, dydt, dzdt]\n",
        "\n",
        "initial_condition_A = [1.0, 1.0, 1.0]\n",
        "initial_condition_B = [1.0, 1.0, 1.0001]\n",
        "\n",
        "solution_A = solve_ivp(lorenz_system, t_span, initial_condition_A, t_eval=t_eval, args=(sigma, beta, rho))\n",
        "solution_B = solve_ivp(lorenz_system, t_span, initial_condition_B, t_eval=t_eval, args=(sigma, beta, rho))\n",
        "\n",
        "fig = plt.figure(figsize=(12, 8))\n",
        "ax = fig.add_subplot(111, projection='3d')\n",
        "\n",
        "# Trajectory A in blue\n",
        "ax.plot(solution_A.y[0], solution_A.y[1], solution_A.y[2], lw=0.5, color='blue', alpha=0.7, label='Trajectory A (Initial: 1.0, 1.0, 1.0)')\n",
        "\n",
        "# Trajectory B in red\n",
        "ax.plot(solution_B.y[0], solution_B.y[1], solution_B.y[2], lw=0.5, color='red', alpha=0.7, label='Trajectory B (Initial: 1.0, 1.0, 1.0001)', linestyle='--')\n",
        "\n",
        "# Set the title and labels\n",
        "ax.set_title('Comparison of Lorenz System Trajectories', fontsize=20)\n",
        "ax.set_xlabel('X Axis')\n",
        "ax.set_ylabel('Y Axis')\n",
        "ax.set_zlabel('Z Axis')\n",
        "ax.legend()\n",
        "\n",
        "plt.show()\n"
      ]
    },
    {
      "cell_type": "markdown",
      "metadata": {
        "id": "uJVA_nMnlMTc"
      },
      "source": [
        "Although Trajectories A and B originate from initial states that are nearly identical, with only a minuscule difference in one variable, the evolution of their paths diverges noticeably over time. Initially, the paths overlap, represented by the purple lines where the blue and red lines coincide, indicating the system's predictability over short timescales.\n",
        "\n",
        "However, as the simulation progresses, the trajectories start to deviate from each other, a phenomenon visually captured by the separation of the blue and red lines. This divergence embodies the essence of chaos theory — small differences in starting conditions can lead to vastly different outcomes. The unpredictability is evident as the once closely following trajectories spiral into their unique courses, making long-term prediction a formidable challenge. The Lorenz system's behavior in this plot is a prime example of why accurate weather forecasting and other applications involving chaotic dynamics are inherently limited by this sensitivity."
      ]
    },
    {
      "cell_type": "code",
      "execution_count": null,
      "metadata": {
        "id": "UTBZ7U2xmzTo"
      },
      "outputs": [],
      "source": []
    },
    {
      "cell_type": "markdown",
      "metadata": {
        "id": "iZSvc41ll_CK"
      },
      "source": [
        "##Our Approach\n",
        "Our approach to analyzing the Lorenz system leverages state-of-the-art Long Short-Term Memory (LSTM) networks, which are inherently suited for capturing the temporal dependencies characteristic of dynamic systems. By training the LSTM on sequences of the system's states, we enable the network to learn the underlying structure of the Lorenz attractor within the limits of short-term predictability inherent to chaotic systems. Although long-term predictions remain a challenge due to the system's sensitive dependence on initial conditions, our methodology focuses on short-term accuracy and the extrapolation of immediate future states from past data. This approach acknowledges the limitations imposed by chaos theory while striving for the most accurate predictions possible within a practical time frame, thus providing a powerful tool for understanding and analyzing the behavior of dynamical systems.\n",
        "\n",
        "\\\\\n",
        "\n",
        "**Whats a 'LTSM'?** \\\\\n",
        "An LSTM, or Long Short-Term Memory network, is an advanced type of neural network used in the field of machine learning. It excels at recognizing patterns in sequences of data and is particularly adept at tasks where context over time is critical. Unlike standard neural networks, which may struggle with the context of earlier inputs as they process new ones, LSTMs have a built-in mechanism to carry forward important information, which helps them make connections over longer sequences"
      ]
    },
    {
      "cell_type": "code",
      "execution_count": null,
      "metadata": {
        "id": "Ij5tmGNBb7c-"
      },
      "outputs": [],
      "source": [
        "# Here we define the parameters for the lorenz system\n",
        "sigma, beta, rho = 10, 2.667, 28\n",
        "\n",
        "# Defining the lorenz system as mentioned above . This funtion takes in a\n",
        "# a state vector defining the initial state of system and returns another vector\n",
        "# containing derivative of each state in the same order.\n",
        "def lorenz(t, state):\n",
        "    #The state consists of inital values fo x, y and z ,\n",
        "    #so we upack the state vector and assign to x,y,z separately\n",
        "    x, y, z = state\n",
        "\n",
        "    # The below equations define the Lorenz system as mentioned above.\n",
        "    dxdt = sigma * (y - x)\n",
        "    dydt = x * (rho - z) - y\n",
        "    dzdt = x * y - beta * z\n",
        "\n",
        "    #Returns the system as vector\n",
        "    return [dxdt, dydt, dzdt]\n",
        "\n",
        "#Define the inital state as a vector [x,y,z]\n",
        "initial_state = [0, 1, 1.05]\n",
        "#Define the time range , t=0 to t=100\n",
        "t_span = [0, 100]\n",
        "#This generate 10000 time points between 0 to 100\n",
        "#These time points are used to compute the solution of the differential equations at those specific time instances\n",
        "#Generating a large number of time points ensures that the solution is accurately evaluated over the specified time interval.\n",
        "t_eval = np.linspace(*t_span, 1000)\n",
        "\n",
        "# Solve the system using the solve_ivp function from scipy\n",
        "# method the numerical method to use for solving the ODEs.'RK45' refers to the fourth-order Runge-Kutta method\n",
        "solution = solve_ivp(lorenz, t_span, initial_state, t_eval=t_eval, method='RK45')\n",
        "#Extract the required data.\n",
        "data = solution.y.T\n",
        "\n",
        "X_train, X_test, y_train, y_test = train_test_split(data[:-1], data[1:], test_size=0.2, random_state=42)\n",
        "np.shape(X_train)\n"
      ]
    },
    {
      "cell_type": "markdown",
      "metadata": {
        "id": "IjrZHOA4oYEL"
      },
      "source": [
        "Here,\n",
        "\n",
        "```\n",
        "model = Sequential([\n",
        "    LSTM(50, activation='relu', input_shape=(n_steps, 3)),\n",
        "    Dense(3)\n",
        "])\n",
        "```\n",
        "`Sequential` is a Keras model that linearly stacks layers.Inside the `Sequential` model, two types of layers are being stacked:\n",
        "\n",
        "\n",
        "*   `LTSM`: LSTM layer with 50 units (Neurons). Rectified Linear Unit (ReLU) activation function is used for each unit.\n",
        "  *   `Features`: Features are the output variables. Here `3` is the feature that outputs the value of $(x, y, z)$ for each labels.\n",
        "  *   `Labels`: Labels here is represented with `input_shape`. Which we previously defined to be `10`. This is the number of intervals we asked the LTSM to remember the state for. \\\\\n",
        "\n",
        "* `Dense`: This is a densely-connected (fully connected) neural network layer with 3 units. Which outputs the values of $(x, y, z)$.\n",
        "\n",
        "Here’s how they work together in the LSTM model:\n",
        "\n",
        "* The LSTM layer receives the features, processes the temporal sequence, and learns from the patterns in the data.\n",
        "\n",
        "* The Dense layer takes the processed features from the LSTM layer and outputs the predictions for the labels, which in this case are the next values of $x$, $y$ and $z$.\n",
        "\n",
        "The goal of training the LSTM model is to minimize the difference between the predicted values (the output of the Dense layer) and the actual future values (the labels), improving the model’s ability to forecast the Lorenz system's behavior accurately for a given sequence of features.\n",
        "\n",
        "\n"
      ]
    },
    {
      "cell_type": "code",
      "execution_count": null,
      "metadata": {
        "colab": {
          "base_uri": "https://localhost:8080/"
        },
        "id": "laLU-XY8TGkb",
        "outputId": "8b60bf73-dabf-4d6c-ed9b-d81601b94f43"
      },
      "outputs": [],
      "source": [
        "\n",
        "# Baseline Model (Simple Dense Layers)\n",
        "baseline_model = Sequential([\n",
        "   Dense(3)\n",
        "])\n",
        "baseline_model.compile(optimizer='adam', loss='mean_absolute_error')\n",
        "baseline_model.fit(X_train, y_train, epochs=50, batch_size=32, validation_split=0.2, verbose=0)\n",
        "\n",
        "# LSTM Model\n",
        "lstm_model = Sequential([\n",
        "    LSTM(50,activation=None),\n",
        "    Dense(3)\n",
        "])\n",
        "lstm_model.compile(optimizer='adam', loss='mean_absolute_error')\n",
        "lstm_model.fit(X_train.reshape(X_train.shape[0], 1, X_train.shape[1]), y_train, epochs=50, batch_size=32, validation_split=0.2, verbose=0)\n",
        "\n",
        "# Predictions\n",
        "baseline_predictions = baseline_model.predict(X_test)\n",
        "lstm_predictions = lstm_model.predict(X_test.reshape(X_test.shape[0], 1, X_test.shape[1]))"
      ]
    },
    {
      "cell_type": "code",
      "execution_count": null,
      "metadata": {
        "colab": {
          "base_uri": "https://localhost:8080/",
          "height": 1000
        },
        "id": "LaiYaAT0cEid",
        "outputId": "79817467-45f7-4df2-ddcf-e538f6cb81be"
      },
      "outputs": [],
      "source": [
        "plt.figure(figsize=(15, 10))\n",
        "\n",
        "# Plot for Actual X vs Predicted X\n",
        "plt.subplot(3, 2, 1)\n",
        "plt.plot(y_test[:, 0], label='Actual X')\n",
        "plt.plot(baseline_predictions[:, 0], label='Predicted X')\n",
        "plt.title('Baseline Model (Dense Layers) - X')\n",
        "plt.xlabel('Time Step')\n",
        "plt.ylabel('Value')\n",
        "plt.legend()\n",
        "\n",
        "# Plot for Actual Y vs Predicted Y\n",
        "plt.subplot(3, 2, 3)\n",
        "plt.plot(y_test[:, 1], label='Actual Y')\n",
        "plt.plot(baseline_predictions[:, 1], label='Predicted Y')\n",
        "plt.title('Baseline Model (Dense Layers) - Y')\n",
        "plt.xlabel('Time Step')\n",
        "plt.ylabel('Value')\n",
        "plt.legend()\n",
        "\n",
        "# Plot for Actual X vs Predicted X (LSTM)\n",
        "plt.subplot(3, 2, 2)\n",
        "plt.plot(y_test[:, 0], label='Actual X')\n",
        "plt.plot(lstm_predictions[:, 0], label='Predicted X')\n",
        "plt.title('LSTM Model - X')\n",
        "plt.xlabel('Time Step')\n",
        "plt.ylabel('Value')\n",
        "plt.legend()\n",
        "\n",
        "# Plot for Actual Y vs Predicted Y (LSTM)\n",
        "plt.subplot(3, 2, 4)\n",
        "plt.plot(y_test[:, 1], label='Actual Y')\n",
        "plt.plot(lstm_predictions[:, 1], label='Predicted Y')\n",
        "plt.title('LSTM Model - Y')\n",
        "plt.xlabel('Time Step')\n",
        "plt.ylabel('Value')\n",
        "plt.legend()\n",
        "\n",
        "# Plot for Actual Z vs Predicted Z\n",
        "plt.subplot(3, 2, 5)\n",
        "plt.plot(y_test[:, 2], label='Actual Z')\n",
        "plt.plot(baseline_predictions[:, 2], label='Predicted Z')\n",
        "plt.title('Baseline Model (Dense Layers) - Z')\n",
        "plt.xlabel('Time Step')\n",
        "plt.ylabel('Value')\n",
        "plt.legend()\n",
        "\n",
        "# Plot for Actual Z vs Predicted Z (LSTM)\n",
        "plt.subplot(3, 2, 6)\n",
        "plt.plot(y_test[:, 2], label='Actual Z')\n",
        "plt.plot(lstm_predictions[:, 2], label='Predicted Z')\n",
        "plt.title('LSTM Model - Z')\n",
        "plt.xlabel('Time Step')\n",
        "plt.ylabel('Value')\n",
        "plt.legend()\n",
        "\n",
        "plt.tight_layout()\n",
        "plt.show()\n"
      ]
    }
  ],
  "metadata": {
    "colab": {
      "provenance": []
    },
    "kernelspec": {
      "display_name": "Python 3",
      "name": "python3"
    },
    "language_info": {
      "codemirror_mode": {
        "name": "ipython",
        "version": 3
      },
      "file_extension": ".py",
      "mimetype": "text/x-python",
      "name": "python",
      "nbconvert_exporter": "python",
      "pygments_lexer": "ipython3",
      "version": "3.10.1"
    }
  },
  "nbformat": 4,
  "nbformat_minor": 0
}
